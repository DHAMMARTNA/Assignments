{
  "nbformat": 4,
  "nbformat_minor": 0,
  "metadata": {
    "colab": {
      "provenance": [],
      "authorship_tag": "ABX9TyPfysGYT2+sxsblQqIiNuR1",
      "include_colab_link": true
    },
    "kernelspec": {
      "name": "python3",
      "display_name": "Python 3"
    },
    "language_info": {
      "name": "python"
    }
  },
  "cells": [
    {
      "cell_type": "markdown",
      "metadata": {
        "id": "view-in-github",
        "colab_type": "text"
      },
      "source": [
        "<a href=\"https://colab.research.google.com/github/DHAMMARTNA/Assignments/blob/main/PythonBasics.ipynb\" target=\"_parent\"><img src=\"https://colab.research.google.com/assets/colab-badge.svg\" alt=\"Open In Colab\"/></a>"
      ]
    },
    {
      "cell_type": "markdown",
      "source": [
        "# Comments and Data Types\n",
        "\n",
        "Comments in Python are given by  \n",
        "1. Single line comment - #\n",
        "2. \"\"\" enter \"\"\" Multi line comment\n",
        "\n",
        "Data types (type is the syntax to detect the data type of anything).\n",
        "1. Integer (Number without decimal)\n",
        "2. Float (Decimal)\n",
        "3. Boolean (True/False)\n",
        "4. String (Sentence - Should always be in double inverted commas \" \")\n",
        "5. Complex (x+iy)\n",
        "6. List (given by square brackets [] data is available inside it)\n",
        "7. Tuple (given by circle bracket () data is available inside it)\n",
        "8. Sets (given by flower bracket {}, data is availabel inside it)\n",
        "9. Dictionary.\n",
        "\n",
        "Varible\n",
        "39 keywords in python (search in google).\n",
        "Identifiers\n",
        "  *Varible or Identifiers cannot be started with a digit.\n",
        "  *Cannot use any secial characters except _ (underscore)\n",
        "\n",
        "Data Type Conversion.\n",
        "  * Implicit Type Conversion (happens internally with the help of compiler).\n",
        "  * Explicity Type Conversion.\n",
        "\n",
        "Operators (6 types of operators).\n",
        "  * Arithmetic Operators\n",
        "     Add, Sub, Mul, Div, Modular (%, this operation gives the remainder of P/Q), Equal, Power (**), a//b (integer division)\n",
        "  * Relational Operators\n",
        "     ==, !=, >, <, >=, <=\n",
        "  * logical Operator\n",
        "     and, or, not,\n",
        "  * Bitwise Operator\n",
        "     & (bitwise and), | (bitwise or), ^ (Bitwise xor), ~ (bitwise not), >> (right shift), << (left shift)\n",
        "  * Assignment Operator\n",
        "     = (used to assign), += (Plus one and equal to)\n",
        "  * Membership Operator\n",
        "     Eg. to check if 'M' is avaible in 'Mumbai' or not?\n",
        "       'M' in 'Mumbai'\n",
        "        True.\n",
        "       'M' not in 'Mumbai'\n",
        "        False\n",
        "\n",
        "# Module in python:\n",
        "To Check all the modules available in your environment type\n",
        "  help('modules')\n",
        "  * Built in modules / Package\n",
        "    In google search for built in modules in python. Read the documentation to use that package.\n",
        "      * import math\n",
        "      (CTRL + Left click ==> this will open the complete code in math package).\n",
        "      * import keywords\n",
        "      * import randon\n",
        "      * import datetime\n",
        "  * External mdules / Package\n",
        "\n",
        "# PiP in Python:\n",
        "  pypi.org is the website where we can find all the packages.\n",
        "\n",
        "  *To install type,\n",
        "  !pip install package\n",
        "\n",
        "  *To uninstall type,\n",
        "  !pip uninstall package\n",
        "\n",
        "# Python Collections (Arrays) [Index starts from 0]\n",
        "There are 4 types of collection data types\n",
        "  * List: ordered and changeable. Allows duplicate members.\n",
        "  * Tuple: Ordered and Unchangeable. Allows duplicate members.\n",
        "  * Set : Unordered, Unchangeable, and unindexed. No duplicate members.\n",
        "  * Dictionary: Ordered and changeable. No duplicate members."
      ],
      "metadata": {
        "id": "vFXTuKtjVqli"
      }
    },
    {
      "cell_type": "markdown",
      "source": [
        "# TTK"
      ],
      "metadata": {
        "id": "ptijOAi1o8wH"
      }
    },
    {
      "cell_type": "code",
      "execution_count": null,
      "metadata": {
        "colab": {
          "base_uri": "https://localhost:8080/"
        },
        "id": "dD-kdGO9VgCK",
        "outputId": "384f84cc-b625-4536-947b-cf79c25fa944"
      },
      "outputs": [
        {
          "output_type": "stream",
          "name": "stdout",
          "text": [
            "My name is Dhamma\n"
          ]
        }
      ],
      "source": [
        "# This is a comment, this print function print a sentence.\n",
        "print(\"My name is Dhamma\")"
      ]
    },
    {
      "cell_type": "code",
      "source": [
        "A = print({\"name\":\"Dhamma\",\"age\":22,\"gender\":\"male\"})\n",
        "type({\"name\":\"Dhamma\",\"age\":22,\"gender\":\"male\"})"
      ],
      "metadata": {
        "colab": {
          "base_uri": "https://localhost:8080/"
        },
        "id": "GlqMCXPyWeWb",
        "outputId": "7a476f4b-0475-40f1-c5fb-5e821ee5ad53"
      },
      "execution_count": null,
      "outputs": [
        {
          "output_type": "stream",
          "name": "stdout",
          "text": [
            "{'name': 'Dhamma', 'age': 22, 'gender': 'male'}\n"
          ]
        },
        {
          "output_type": "execute_result",
          "data": {
            "text/plain": [
              "dict"
            ]
          },
          "metadata": {},
          "execution_count": 5
        }
      ]
    },
    {
      "cell_type": "markdown",
      "source": [
        "# Sum of three digits."
      ],
      "metadata": {
        "id": "JIXhDzBkczbl"
      }
    },
    {
      "cell_type": "markdown",
      "source": [
        "*Normal Way"
      ],
      "metadata": {
        "id": "6rB0ba7HdGTJ"
      }
    },
    {
      "cell_type": "code",
      "source": [
        "Var1 = input(\"Enter the first number : \")\n",
        "Var2 = input(\"Enter the second number : \")\n",
        "Var3 = input(\"Enter the third number : \")\n",
        "\n",
        "Sum = int(Var1) + int(Var2) + int(Var3);\n",
        "\n",
        "print(\"Sum of above three variables is = \" ,Sum)"
      ],
      "metadata": {
        "id": "Xbhxgu7dYdDf",
        "colab": {
          "base_uri": "https://localhost:8080/"
        },
        "outputId": "1de8145c-df4a-4a04-d754-44436afb3dd3"
      },
      "execution_count": null,
      "outputs": [
        {
          "output_type": "stream",
          "name": "stdout",
          "text": [
            "Enter the first number : 10\n",
            "Enter the second number : 10\n",
            "Enter the third number : 10\n",
            "Sum of above three variables is =  30\n"
          ]
        }
      ]
    },
    {
      "cell_type": "markdown",
      "source": [
        "*using operators. Modulus and integer division."
      ],
      "metadata": {
        "id": "mn5q9EjjdJ2M"
      }
    },
    {
      "cell_type": "code",
      "source": [
        "ThreeNumbs = input(\"Enter all the three numbers: \")\n",
        "print(type(ThreeNumbs));\n",
        "ThreeNumbs = int(ThreeNumbs)\n",
        "Var1 = ThreeNumbs%10\n",
        "print(\"Var1 = \",Var1)\n",
        "Var2 = ThreeNumbs//10\n",
        "print(\"Var2 = \",Var2)\n",
        "Var2 = Var2%10\n",
        "print(\"Var2 = \",Var2)\n",
        "Var3 = ThreeNumbs//100\n",
        "Var3 = Var3%10\n",
        "\n",
        "print(\"Var3 = \",Var3)\n",
        "print(Var1, Var2, Var3)\n"
      ],
      "metadata": {
        "colab": {
          "base_uri": "https://localhost:8080/"
        },
        "id": "awi4ssYBbpXc",
        "outputId": "db344314-6356-4037-988f-8541e36fcf94"
      },
      "execution_count": null,
      "outputs": [
        {
          "output_type": "stream",
          "name": "stdout",
          "text": [
            "Enter all the three numbers: 140\n",
            "<class 'str'>\n",
            "Var1 =  0\n",
            "Var2 =  14\n",
            "Var2 =  4\n",
            "Var3 =  1\n",
            "0 4 1\n"
          ]
        }
      ]
    },
    {
      "cell_type": "markdown",
      "source": [
        "* Using indexes"
      ],
      "metadata": {
        "id": "aeYFh2IXg95t"
      }
    },
    {
      "cell_type": "code",
      "source": [
        "ThreeNumbs = input(\"Enter three numbers : \")\n",
        "Var1 = int(ThreeNumbs[0])\n",
        "print(Var1)\n",
        "Var2 = int(ThreeNumbs[1])\n",
        "print(Var2)\n",
        "Var3 = int(ThreeNumbs[2])\n",
        "print(Var3)\n",
        "\n",
        "print(\"Sum of all three variables is = \", Var1 + Var2 + Var3)"
      ],
      "metadata": {
        "colab": {
          "base_uri": "https://localhost:8080/"
        },
        "id": "CLvUKqiLd63W",
        "outputId": "f063de68-95e5-4d90-c12a-55933c74c0ae"
      },
      "execution_count": null,
      "outputs": [
        {
          "output_type": "stream",
          "name": "stdout",
          "text": [
            "Enter three numbers : 104\n",
            "1\n",
            "0\n",
            "4\n",
            "Sum of all three variables is =  5\n"
          ]
        }
      ]
    },
    {
      "cell_type": "markdown",
      "source": [
        "# If Else\n",
        "  * used when conditional statements are provided."
      ],
      "metadata": {
        "id": "EKNYCqVXjlj8"
      }
    },
    {
      "cell_type": "code",
      "source": [
        "\n"
      ],
      "metadata": {
        "id": "6ZvgWfaphNqg",
        "colab": {
          "base_uri": "https://localhost:8080/",
          "height": 391
        },
        "outputId": "18f448ad-cc44-4fc0-c9a4-2b584a8b4f05"
      },
      "execution_count": null,
      "outputs": [
        {
          "output_type": "error",
          "ename": "TclError",
          "evalue": "no display name and no $DISPLAY environment variable",
          "traceback": [
            "\u001b[0;31m---------------------------------------------------------------------------\u001b[0m",
            "\u001b[0;31mTclError\u001b[0m                                  Traceback (most recent call last)",
            "\u001b[0;32m<ipython-input-13-9a5f9ce96eda>\u001b[0m in \u001b[0;36m<cell line: 5>\u001b[0;34m()\u001b[0m\n\u001b[1;32m      3\u001b[0m \u001b[0;32mimport\u001b[0m \u001b[0mttkbootstrap\u001b[0m \u001b[0;32mas\u001b[0m \u001b[0mtb\u001b[0m\u001b[0;34m\u001b[0m\u001b[0;34m\u001b[0m\u001b[0m\n\u001b[1;32m      4\u001b[0m \u001b[0;34m\u001b[0m\u001b[0m\n\u001b[0;32m----> 5\u001b[0;31m \u001b[0mroot\u001b[0m \u001b[0;34m=\u001b[0m \u001b[0mtb\u001b[0m\u001b[0;34m.\u001b[0m\u001b[0mWindow\u001b[0m\u001b[0;34m(\u001b[0m\u001b[0mthemename\u001b[0m \u001b[0;34m=\u001b[0m \u001b[0;34m\"superhero\"\u001b[0m\u001b[0;34m)\u001b[0m\u001b[0;34m\u001b[0m\u001b[0;34m\u001b[0m\u001b[0m\n\u001b[0m\u001b[1;32m      6\u001b[0m \u001b[0mroot\u001b[0m\u001b[0;34m.\u001b[0m\u001b[0mtitle\u001b[0m\u001b[0;34m(\u001b[0m\u001b[0;34m\"TTK Bootstrap!\"\u001b[0m\u001b[0;34m)\u001b[0m\u001b[0;34m\u001b[0m\u001b[0;34m\u001b[0m\u001b[0m\n\u001b[1;32m      7\u001b[0m \u001b[0mroot\u001b[0m\u001b[0;34m.\u001b[0m\u001b[0miconbitmap\u001b[0m\u001b[0;34m(\u001b[0m\u001b[0;34m'images/codemy.ico'\u001b[0m\u001b[0;34m)\u001b[0m\u001b[0;34m\u001b[0m\u001b[0;34m\u001b[0m\u001b[0m\n",
            "\u001b[0;32m/usr/local/lib/python3.10/dist-packages/ttkbootstrap/window.py\u001b[0m in \u001b[0;36m__init__\u001b[0;34m(self, title, themename, iconphoto, size, position, minsize, maxsize, resizable, hdpi, scaling, transient, overrideredirect, alpha)\u001b[0m\n\u001b[1;32m    220\u001b[0m             \u001b[0mutility\u001b[0m\u001b[0;34m.\u001b[0m\u001b[0menable_high_dpi_awareness\u001b[0m\u001b[0;34m(\u001b[0m\u001b[0;34m)\u001b[0m\u001b[0;34m\u001b[0m\u001b[0;34m\u001b[0m\u001b[0m\n\u001b[1;32m    221\u001b[0m \u001b[0;34m\u001b[0m\u001b[0m\n\u001b[0;32m--> 222\u001b[0;31m         \u001b[0msuper\u001b[0m\u001b[0;34m(\u001b[0m\u001b[0;34m)\u001b[0m\u001b[0;34m.\u001b[0m\u001b[0m__init__\u001b[0m\u001b[0;34m(\u001b[0m\u001b[0;34m)\u001b[0m\u001b[0;34m\u001b[0m\u001b[0;34m\u001b[0m\u001b[0m\n\u001b[0m\u001b[1;32m    223\u001b[0m         \u001b[0mself\u001b[0m\u001b[0;34m.\u001b[0m\u001b[0mwinsys\u001b[0m \u001b[0;34m=\u001b[0m \u001b[0mself\u001b[0m\u001b[0;34m.\u001b[0m\u001b[0mtk\u001b[0m\u001b[0;34m.\u001b[0m\u001b[0mcall\u001b[0m\u001b[0;34m(\u001b[0m\u001b[0;34m'tk'\u001b[0m\u001b[0;34m,\u001b[0m \u001b[0;34m'windowingsystem'\u001b[0m\u001b[0;34m)\u001b[0m\u001b[0;34m\u001b[0m\u001b[0;34m\u001b[0m\u001b[0m\n\u001b[1;32m    224\u001b[0m \u001b[0;34m\u001b[0m\u001b[0m\n",
            "\u001b[0;32m/usr/local/lib/python3.10/dist-packages/ttkbootstrap/style.py\u001b[0m in \u001b[0;36m__init__wrapper\u001b[0;34m(self, *args, **kwargs)\u001b[0m\n\u001b[1;32m   5167\u001b[0m \u001b[0;34m\u001b[0m\u001b[0m\n\u001b[1;32m   5168\u001b[0m             \u001b[0;31m# instantiate the widget\u001b[0m\u001b[0;34m\u001b[0m\u001b[0;34m\u001b[0m\u001b[0m\n\u001b[0;32m-> 5169\u001b[0;31m             \u001b[0mfunc\u001b[0m\u001b[0;34m(\u001b[0m\u001b[0mself\u001b[0m\u001b[0;34m,\u001b[0m \u001b[0;34m*\u001b[0m\u001b[0margs\u001b[0m\u001b[0;34m,\u001b[0m \u001b[0;34m**\u001b[0m\u001b[0mkwargs\u001b[0m\u001b[0;34m)\u001b[0m\u001b[0;34m\u001b[0m\u001b[0;34m\u001b[0m\u001b[0m\n\u001b[0m\u001b[1;32m   5170\u001b[0m \u001b[0;34m\u001b[0m\u001b[0m\n\u001b[1;32m   5171\u001b[0m             \u001b[0;32mif\u001b[0m \u001b[0mautostyle\u001b[0m\u001b[0;34m:\u001b[0m\u001b[0;34m\u001b[0m\u001b[0;34m\u001b[0m\u001b[0m\n",
            "\u001b[0;32m/usr/lib/python3.10/tkinter/__init__.py\u001b[0m in \u001b[0;36m__init__\u001b[0;34m(self, screenName, baseName, className, useTk, sync, use)\u001b[0m\n\u001b[1;32m   2297\u001b[0m                 \u001b[0mbaseName\u001b[0m \u001b[0;34m=\u001b[0m \u001b[0mbaseName\u001b[0m \u001b[0;34m+\u001b[0m \u001b[0mext\u001b[0m\u001b[0;34m\u001b[0m\u001b[0;34m\u001b[0m\u001b[0m\n\u001b[1;32m   2298\u001b[0m         \u001b[0minteractive\u001b[0m \u001b[0;34m=\u001b[0m \u001b[0;32mFalse\u001b[0m\u001b[0;34m\u001b[0m\u001b[0;34m\u001b[0m\u001b[0m\n\u001b[0;32m-> 2299\u001b[0;31m         \u001b[0mself\u001b[0m\u001b[0;34m.\u001b[0m\u001b[0mtk\u001b[0m \u001b[0;34m=\u001b[0m \u001b[0m_tkinter\u001b[0m\u001b[0;34m.\u001b[0m\u001b[0mcreate\u001b[0m\u001b[0;34m(\u001b[0m\u001b[0mscreenName\u001b[0m\u001b[0;34m,\u001b[0m \u001b[0mbaseName\u001b[0m\u001b[0;34m,\u001b[0m \u001b[0mclassName\u001b[0m\u001b[0;34m,\u001b[0m \u001b[0minteractive\u001b[0m\u001b[0;34m,\u001b[0m \u001b[0mwantobjects\u001b[0m\u001b[0;34m,\u001b[0m \u001b[0museTk\u001b[0m\u001b[0;34m,\u001b[0m \u001b[0msync\u001b[0m\u001b[0;34m,\u001b[0m \u001b[0muse\u001b[0m\u001b[0;34m)\u001b[0m\u001b[0;34m\u001b[0m\u001b[0;34m\u001b[0m\u001b[0m\n\u001b[0m\u001b[1;32m   2300\u001b[0m         \u001b[0;32mif\u001b[0m \u001b[0museTk\u001b[0m\u001b[0;34m:\u001b[0m\u001b[0;34m\u001b[0m\u001b[0;34m\u001b[0m\u001b[0m\n\u001b[1;32m   2301\u001b[0m             \u001b[0mself\u001b[0m\u001b[0;34m.\u001b[0m\u001b[0m_loadtk\u001b[0m\u001b[0;34m(\u001b[0m\u001b[0;34m)\u001b[0m\u001b[0;34m\u001b[0m\u001b[0;34m\u001b[0m\u001b[0m\n",
            "\u001b[0;31mTclError\u001b[0m: no display name and no $DISPLAY environment variable"
          ]
        }
      ]
    }
  ]
}